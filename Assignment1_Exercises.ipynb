{
  "nbformat": 4,
  "nbformat_minor": 2,
  "metadata": {
    "colab": {
      "name": "Assignment1.ipynb",
      "provenance": [],
      "collapsed_sections": [],
      "toc_visible": true
    },
    "kernelspec": {
      "name": "python3",
      "display_name": "Python 3.9.6 64-bit"
    },
    "language_info": {
      "codemirror_mode": {
        "name": "ipython",
        "version": 3
      },
      "file_extension": ".py",
      "mimetype": "text/x-python",
      "name": "python",
      "nbconvert_exporter": "python",
      "pygments_lexer": "ipython3",
      "version": "3.9.6"
    },
    "interpreter": {
      "hash": "4cd7ab41f5fca4b9b44701077e38c5ffd31fe66a6cab21e0214b68d958d0e462"
    }
  },
  "cells": [
    {
      "cell_type": "markdown",
      "source": [
        "# Assignment 1: Time-series data"
      ],
      "metadata": {
        "id": "bFBtMXR5sE9-"
      }
    },
    {
      "cell_type": "markdown",
      "source": [
        "**This assignment consists of five parts:**\n",
        "\n",
        "1. Create synthetic data to test the algorithm you design.\n",
        "2. Write two functions:\n",
        "    - autocorrelation.\n",
        "    - period extraction function.\n",
        "3. Use a periodogram function.\n",
        "4. Compare the sensitivity of the algorithms to typical imperfections occur in real data (noise, missing data, random and non-periodic patterns).\n",
        "5. Test the algorithms on geolife data.\n",
        " \n"
      ],
      "metadata": {
        "id": "qNa1G8WGQM_3"
      }
    },
    {
      "cell_type": "markdown",
      "source": [
        "Part 1-3 will make up **60% of your grade**, part 4 and 5 constitute **40% of your grade**."
      ],
      "metadata": {}
    },
    {
      "cell_type": "markdown",
      "source": [
        "**WARNING: Make sure to read through the entire assignment before starting to code. The tasks build on each other!**"
      ],
      "metadata": {
        "id": "10aZqTKxxKbO"
      }
    },
    {
      "cell_type": "markdown",
      "source": [
        "Good luck with the assignment! Deadline is **October 5th, at 23:55** hrs. Please push your code to the GitHub classroom before the deadline. **Make sure to read the *\"Submission procedure\"* section in the *\"README.md\"* file to ensure reproducibility.**\n"
      ],
      "metadata": {
        "id": "3CAIa-JQzsjY"
      }
    },
    {
      "cell_type": "markdown",
      "source": [
        "## 0th part: Prerequisites\n",
        "Please add any packages you use to the code cell below."
      ],
      "metadata": {
        "id": "sE6lbchVxNxm"
      }
    },
    {
      "cell_type": "code",
      "execution_count": 1,
      "source": [
        "import numpy as np\n",
        "import matplotlib.pyplot as plt\n",
        "# etc."
      ],
      "outputs": [],
      "metadata": {
        "id": "5GELy1Y9xZf-"
      }
    },
    {
      "cell_type": "markdown",
      "source": [
        "\n",
        "## 1st part: Create Synthetic Data\n",
        "\n",
        "Imagine that you have a GPS device that takes a measurement every 10 minutes. Create a synthetic data trajectory with two periodicities for 365 days. The trajectory data should include two types of periodicities (e.g., one daily and one weekly). For example, you can take your home-Snellius trajectory as a daily trajectory repeating from Monday to Friday (daily period) and your weekly trip to the supermarket or city center from home during the weekend as the second one (weekly period). Assume that you have a regular schedule (e.g. leaving every day at 8 and returning at 5). Simulate the whole trajectory (the path and the time you spend in each place). You can find GPS locations via Google Maps (right-click on map - what is here?) or any other online map service. Try to think of scenarios that make this data as accurate as possible. You can be creative about your home location because that's private information!\n",
        "\n",
        "The GPS location of the entrance of the Snellius building is: 52.169709, 4.457111. \n",
        "\n",
        "Use a constant time between waypoints / GPS locations for this exercise.\n",
        "\n",
        "Tip I : a periodicity of 24 is a recurring event every 24 hrs (i.e. a daily event), a periodicity of 168 hrs is a weekly event. The final time series should have a dimension of 144 (24hrs*60mins/10mins) * 365. \n",
        "\n",
        "Tip II: We talked so far about processing one time series. In case two time-series acquired from two coordinates is difficult to handle, try to use only one, or combine them into one value (e.g. lat^2 + long^2).\n",
        "\n",
        "Tip III: Stuck with how to simulate data? Check the Lab of the first week and get some inspiration there. You are free to simulate coordinates per minute or hour. Take a decision and go with it. You can always go back to your simulation later and make it more realistic. \n",
        "\n"
      ],
      "metadata": {
        "id": "DxJvqttRQM_8"
      }
    },
    {
      "cell_type": "code",
      "execution_count": null,
      "source": [
        "#simulate data in form of two timeseries latitude and longitude of length (144*365):\n",
        "def simulate(homeCoord, supermarketCoord, snelliusCoord):\n",
        "\n",
        "\n",
        "  return simulatedData"
      ],
      "outputs": [],
      "metadata": {
        "id": "SJ8CdduCQM__"
      }
    },
    {
      "cell_type": "markdown",
      "source": [
        "## 2nd part: Write two functions\n",
        "\n",
        "Your task is to write:\n",
        "\n",
        " 1. A function that performs an [autocorrelation](https://en.wikipedia.org/wiki/Autocorrelation) on the synthetic data and returns the correlation value and corresponding delay for every possible delay.\n",
        " 2. A visualisation of the autocorrelation function that shows the correlation value as a function of the delay.\n",
        " 3. A function that evaluates the output of the autocorrelation function and manages to extract the two simulated periodicities as output. \n",
        " \n",
        " Construct the second function such that it will return two numbers as periodic components (24, 168) and indicate which periodicity is more prominent. While implementing the autocorrelaton function, you can try to implement a circular (shifting values from the end of time-series to its begining) or a non-circular version (removing values from the end of time-series). If the your function takes too much time to run, make sure to use the tips on code efficiency from the first lab.\n",
        "\n"
      ],
      "metadata": {
        "id": "wSett7xdQNAF"
      }
    },
    {
      "cell_type": "code",
      "execution_count": null,
      "source": [
        "#write your own ACF\n",
        "def autocorrelation(data):\n",
        "    \n",
        "    return autocorr"
      ],
      "outputs": [],
      "metadata": {
        "id": "kmdZFtimQNAH"
      }
    },
    {
      "cell_type": "code",
      "execution_count": null,
      "source": [
        "#display ACF on y-axis, time on x-axis\n"
      ],
      "outputs": [],
      "metadata": {
        "id": "JLcMFTeGQNAS"
      }
    },
    {
      "cell_type": "code",
      "execution_count": null,
      "source": [
        "#write your evaluation function\n",
        "def autocorrPeriodicity(simulatedData):\n",
        "\n",
        "    autocorr = autocorrelation(simulatedData)\n",
        "    #\n",
        "    #  finding periods out of autocorrelation by automatically identifying the most dominant peaks\n",
        "    #\n",
        "    return autocorrPeriods"
      ],
      "outputs": [],
      "metadata": {
        "id": "DwjMyOm5xkFg"
      }
    },
    {
      "cell_type": "markdown",
      "source": [
        "## 3rd part: Periodograms\n",
        "Take an existing periodogram function from a python packaged (for example Scipy) and run it on the simulated data. Does your evaluation function from the 2nd part works on the results of the periodogram? If not design another algorithm for extracting periods from the periodogram."
      ],
      "metadata": {
        "id": "qPY9JFyixvBQ"
      }
    },
    {
      "cell_type": "code",
      "execution_count": null,
      "source": [
        "#work with periodogram, find a function available in one of the python packages\n"
      ],
      "outputs": [],
      "metadata": {
        "id": "hjS6A44QyD0a"
      }
    },
    {
      "cell_type": "code",
      "execution_count": null,
      "source": [
        "# write your own periodogram function if needed\n",
        "def periodogram(...):\n",
        "\n",
        "    return ..."
      ],
      "outputs": [],
      "metadata": {
        "id": "9SHZEgQLQwAi"
      }
    },
    {
      "cell_type": "code",
      "execution_count": null,
      "source": [
        "# evaluate results of periodogram, write your evaluation function\n",
        "def periodogramPeriodicity(simulatedData):\n",
        "\n",
        "    # call the periodogram \n",
        "    #\n",
        "    # find periods from periodogram by automatically identifying the most dominant peaks\n",
        "    #\n",
        "    return periodogramPeriods"
      ],
      "outputs": [],
      "metadata": {
        "id": "wduxrd5SyGjq"
      }
    },
    {
      "cell_type": "markdown",
      "source": [
        "It might be difficult to find all the correct dominant peaks so we will be lenient in grading if we can see that the code is correct."
      ],
      "metadata": {}
    },
    {
      "cell_type": "markdown",
      "source": [
        "## 4th part: Performance\n",
        "\n",
        "Noise in the data can have different causes:\n",
        "\n",
        "- Missing measurements at different proportions (randomly or in bursts).\n",
        "- Noise around the location data. Let's assume your GPS sensor has an approximate range of 50 meters, and noisy points (being 100s of meters away) occur occasionaly due to the cloud cover or the multipath affect of the GPS signal.\n",
        "- Noise around the temporal data. For example, you assume that you leave home everyday at 8 and return at 5, but you might actually leave a bit earlier or a bit later.\n",
        "- Irregular behavior by skipping or adding a trajectory. For example, going to school on a saturday or skipping groceries for a week. You can also define a number of new places and paths and add them to the trajectory randomly (e.g. going to the cinema every month with some probability)\n",
        "\n",
        "Choose at least two noise sources, add them to your simulated data and compare the performance of your ACF and periodogram function. Parametrize your process of injecting these noises according to a rate and check how sensitive your algorithms are to different proportions of these sources of imperfections. Which one performs best? Under what circumstances?\n",
        "\n"
      ],
      "metadata": {
        "id": "GC7VELIzQNAX"
      }
    },
    {
      "cell_type": "code",
      "execution_count": null,
      "source": [
        "def addNoiseOne(data, rate): # rate has a value in [0,1] and is used as parameter to define the level of noise added \n",
        "  return noisydata"
      ],
      "outputs": [],
      "metadata": {
        "id": "tcURsHuVQwAo"
      }
    },
    {
      "cell_type": "code",
      "execution_count": null,
      "source": [
        "def addNoiseTwo(data, rate):\n",
        "  return noisydata"
      ],
      "outputs": [],
      "metadata": {
        "id": "zA87pNf_QwAr"
      }
    },
    {
      "cell_type": "code",
      "execution_count": null,
      "source": [
        "#compare performance\n",
        "noisydata1 = addNoiseOne(data, 0.5)\n",
        "noisydata2 = addNoiseTwo(data, 0.5)\n",
        "\n",
        "#autocorrPeriodicity(noisydata1)\n",
        "#periodogramPeriodicity(noisydata2)\n"
      ],
      "outputs": [],
      "metadata": {
        "id": "eQhc21cMQNAY"
      }
    },
    {
      "cell_type": "markdown",
      "source": [
        "### Conclusion\n",
        "Write a brief report on your findings (150 words max):"
      ],
      "metadata": {}
    },
    {
      "cell_type": "markdown",
      "source": [
        "(Write your report here)"
      ],
      "metadata": {}
    },
    {
      "cell_type": "markdown",
      "source": [
        "## 5th part: Real life data\n",
        "\n",
        "You will use data from the geolife datasets to test the time-series analysis methods that you developed. Your task is to apply the methods you just learned and interpret the data. \n",
        "\n",
        "[Download the data here](https://www.microsoft.com/en-us/download/details.aspx?id=52367). Select a participant and find out as much as you can about that participant. The participants differ a lot in terms of the number of collected trajectories, you can check several participants.\n",
        "\n",
        "[The user guide of the entire dataset can be found here](https://www.microsoft.com/en-us/research/wp-content/uploads/2016/02/User20Guide-1.2.pdf).\n",
        "\n",
        "Use these questions as a guideline for your analysis: \n",
        "- Where was the data gathered? Can you find frequently visited locations by exploring the data?\n",
        "- What is the general structure of the data? How much noise do you expect? What is the temporal granularity of your data? How long did your participant log their movement?\n",
        "- Can you find periodic behaviors? What are the periodicities?\n",
        "- If you cannot identify periodic behaviors: Can you explore why? What makes your data challenging? What realistic aspect of data is missing in your simulation? Having these challenges in mind what would be your topmost priorities, if you were to design a data collection protocol?\n",
        "\n"
      ],
      "metadata": {
        "id": "V6yj3JXRQNAv"
      }
    },
    {
      "cell_type": "code",
      "execution_count": null,
      "source": [
        "#import data \n"
      ],
      "outputs": [],
      "metadata": {
        "id": "JJ4ULbdhQNAw"
      }
    },
    {
      "cell_type": "code",
      "execution_count": null,
      "source": [
        "#some general exploratory statistics to find out more about your participant\n"
      ],
      "outputs": [],
      "metadata": {
        "id": "QFUxf8UyQNAz"
      }
    },
    {
      "cell_type": "code",
      "execution_count": null,
      "source": [
        "#run (your own) ACF \n"
      ],
      "outputs": [],
      "metadata": {
        "id": "YNaWFIG-QNA1"
      }
    },
    {
      "cell_type": "code",
      "execution_count": null,
      "source": [
        "#run periodogram on the data\n"
      ],
      "outputs": [],
      "metadata": {
        "id": "_LFEa3-aQNA3"
      }
    },
    {
      "cell_type": "markdown",
      "source": [
        "### Conclusion\n",
        "Little report on findings (max 250 words):"
      ],
      "metadata": {
        "id": "RFp0ZUKtQNA7"
      }
    },
    {
      "cell_type": "markdown",
      "source": [
        "(Write your report here)"
      ],
      "metadata": {}
    },
    {
      "cell_type": "markdown",
      "source": [
        "## How do we grade this assignment?\n",
        "Please pay attention to the following points. We consider these in calculating your final grade.\n",
        "\n",
        "First of all, please check if you have pushed this notebook to the GitHub classroom before the deadline. You can check online on the GitHub classroom if the most up to date version of your code is present there, we can't grade your notebook if it is not there! **Make sure to read the *\"Submission procedure\"* section in the *\"README.md\"* file to ensure reproducibility.**"
      ],
      "metadata": {
        "id": "_YXEo3jyWuRX"
      }
    },
    {
      "cell_type": "markdown",
      "source": [
        "**1st part:**\n",
        "\n",
        "1.   Your simulated data should have latitude and longitude.\n",
        "2.   Your simulated data should have the correct dimensionality/frequency.\n",
        "2.   It should also have both a daily and weekly cycle.\n",
        "\n"
      ],
      "metadata": {
        "id": "tf6EXK2oXDll"
      }
    },
    {
      "cell_type": "markdown",
      "source": [
        "**2nd part:**\n",
        "\n",
        "\n",
        "1. You should have correctly implemented the autocorrelation function.\n",
        "2. We consider the graphs generated in grading.\n",
        "3. We consider if the function returns 2 periodic cycles correctly.\n",
        "4. We consider the extraction of the more prominent cycle. \n",
        "\n"
      ],
      "metadata": {
        "id": "qsH6N1uyXopp"
      }
    },
    {
      "cell_type": "markdown",
      "source": [
        "**3rd part:**\n",
        "\n",
        "1.   We consider the implementation of the function based on periodogram.\n",
        "2.   We consider if it works, it extracts 2 periods and identifies the most prominent one.\n",
        "\n"
      ],
      "metadata": {
        "id": "HYfPFVnQX8Jl"
      }
    },
    {
      "cell_type": "markdown",
      "source": [
        "**4th part:**\n",
        "1. We consider if two noise sources are added.\n",
        "2. We check if both autocorrelation and periodogramd are applied to data.\n",
        "3. We check if the results of the experiments are presented in a useful way.\n",
        "4. We check the conclusions.\n"
      ],
      "metadata": {
        "id": "eUUEeqeNgIg9"
      }
    },
    {
      "cell_type": "markdown",
      "source": [
        "**5th part:**\n",
        "1. We check if you have explored data.\n",
        "2. We check if you have used periodogram and autocorrelation function.\n",
        "3. We check your summary and reports. "
      ],
      "metadata": {
        "id": "2vajPss_hML5"
      }
    }
  ]
}